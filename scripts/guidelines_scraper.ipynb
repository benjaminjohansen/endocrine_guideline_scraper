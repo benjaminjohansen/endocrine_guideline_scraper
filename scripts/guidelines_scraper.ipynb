{
 "cells": [
  {
   "cell_type": "code",
   "execution_count": 1,
   "metadata": {},
   "outputs": [],
   "source": [
    "import requests\n",
    "from bs4 import BeautifulSoup"
   ]
  },
  {
   "cell_type": "code",
   "execution_count": 9,
   "metadata": {},
   "outputs": [],
   "source": [
    "# Make a request to the website\n",
    "url = \"https://endocrinology.dk/nbv/diabetes-melitus/behandling-og-kontrol-af-type-2-diabetes/\"\n",
    "response = requests.get(url)\n",
    "\n",
    "# Parse the HTML content\n",
    "soup = BeautifulSoup(response.content, \"html.parser\")\n"
   ]
  },
  {
   "cell_type": "code",
   "execution_count": 19,
   "metadata": {},
   "outputs": [],
   "source": [
    "# Local header variables\n",
    "header_vars = [\"h1\",\"h2\", \"h3\"]\n",
    "output_file = \"../data/endocrinology_guidelines_type_2_diabetes.txt\"\n",
    "\n",
    "with open(output_file, \"w\") as f:\n",
    "    for header in soup.find_all(header_vars):\n",
    "        for elem in header.next_siblings:\n",
    "            if elem.name == header_vars[0]:\n",
    "                f.write(f\"# {elem.get_text()}\\n\")\n",
    "            elif elem.name == header_vars[1]:\n",
    "                f.write(f\"## {elem.get_text()}\\n\")\n",
    "            elif elem.name == header_vars[2]:\n",
    "                f.write(f\"### {elem.get_text()}\\n\")\n",
    "            elif elem.name == \"p\" and elem.next_sibling and elem.next_sibling.name == \"p\":\n",
    "                f.write(elem.get_text() + \"\\n\")\n",
    "            else:\n",
    "                f.write(elem.get_text() + \"\\n\\n\")"
   ]
  }
 ],
 "metadata": {
  "kernelspec": {
   "display_name": "survival",
   "language": "python",
   "name": "python3"
  },
  "language_info": {
   "codemirror_mode": {
    "name": "ipython",
    "version": 3
   },
   "file_extension": ".py",
   "mimetype": "text/x-python",
   "name": "python",
   "nbconvert_exporter": "python",
   "pygments_lexer": "ipython3",
   "version": "3.10.13"
  }
 },
 "nbformat": 4,
 "nbformat_minor": 2
}
