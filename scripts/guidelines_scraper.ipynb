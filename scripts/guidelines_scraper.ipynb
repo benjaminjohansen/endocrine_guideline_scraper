{
 "cells": [
  {
   "cell_type": "code",
   "execution_count": 1,
   "metadata": {},
   "outputs": [],
   "source": [
    "import requests\n",
    "from bs4 import BeautifulSoup"
   ]
  },
  {
   "cell_type": "code",
   "execution_count": 9,
   "metadata": {},
   "outputs": [],
   "source": [
    "# Make a request to the website\n",
    "url = \"https://endocrinology.dk/nbv/diabetes-melitus/behandling-og-kontrol-af-type-2-diabetes/\"\n",
    "response = requests.get(url)\n",
    "\n",
    "# Parse the HTML content\n",
    "soup = BeautifulSoup(response.content, \"html.parser\")"
   ]
  },
  {
   "cell_type": "code",
   "execution_count": 18,
   "metadata": {},
   "outputs": [],
   "source": [
    "# Local header variables\n",
    "header_vars = [\"h1\", \"h2\", \"h3\"]\n",
    "output_file = \"../data/endocrinology_guidelines_type_2_diabetes.txt\"\n",
    "\n",
    "with open(output_file, \"w\") as f:\n",
    "    for header in soup.find_all(header_vars):\n",
    "        for elem in header.next_siblings:\n",
    "            if elem.name == header_vars[0]:\n",
    "                f.write(f\"# {elem.get_text()}\\n\")\n",
    "            elif elem.name == header_vars[1]:\n",
    "                f.write(f\"## {elem.get_text()}\\n\")\n",
    "            elif elem.name == header_vars[2]:\n",
    "                f.write(f\"### {elem.get_text()}\\n\")\n",
    "            elif (\n",
    "                elem.name == \"p\" and elem.next_sibling and elem.next_sibling.name == \"p\"\n",
    "            ):\n",
    "                f.write(elem.get_text() + \"\\n\")\n",
    "            else:\n",
    "                f.write(elem.get_text() + \"\\n\\n\")"
   ]
  },
  {
   "cell_type": "code",
   "execution_count": null,
   "metadata": {},
   "outputs": [],
   "source": [
    "for header in soup.find_all([\"h1\", \"h2\", \"h3\"]):\n",
    "    header.get_text() + \"\\n\"\n",
    "    for elem in header.next_siblings:\n",
    "        if elem.name and elem.name.startswith(\"h\"):\n",
    "            # stop at next header\n",
    "            break\n",
    "        if elem.name == \"p\":\n",
    "            f.write(elem.get_text() + \"\\n\")"
   ]
  },
  {
   "cell_type": "code",
   "execution_count": null,
   "metadata": {},
   "outputs": [],
   "source": [
    "# print(soup.prettify())\n",
    "print(soup.get_text())"
   ]
  },
  {
   "cell_type": "code",
   "execution_count": null,
   "metadata": {},
   "outputs": [],
   "source": [
    "# Make a request to the website\n",
    "url = \"https://endocrinology.dk/nbv/diabetes-melitus/behandling-og-kontrol-af-type-2-diabetes/\"  # replace with your url\n",
    "response = requests.get(url)\n",
    "\n",
    "# Parse the HTML content\n",
    "soup = BeautifulSoup(response.content, \"html.parser\")\n",
    "\n",
    "# Initialize an empty dictionary to hold the headers and text\n",
    "content_dict = {}\n",
    "\n",
    "# Find all h2 tags and their subheaders\n",
    "for h2 in soup.find_all(\"h2\"):\n",
    "    header = h2.text  # get the h2 text\n",
    "    text = \"\"  # initialize an empty string to hold the text\n",
    "    nextNode = h2\n",
    "    while True:\n",
    "        nextNode = nextNode.nextSibling\n",
    "        if nextNode is None:\n",
    "            break\n",
    "        if isinstance(nextNode, bs4.element.Tag):\n",
    "            if nextNode.name == \"h2\":\n",
    "                break\n",
    "            text += (\n",
    "                nextNode.text + \"\\n\\n\"\n",
    "            )  # add the text to the string, separated by an empty line\n",
    "    content_dict[header] = text.strip()  # add the header and text to the dictionary"
   ]
  },
  {
   "cell_type": "code",
   "execution_count": null,
   "metadata": {},
   "outputs": [],
   "source": [
    "# Print the dictionary\n",
    "for header, text in content_dict.items():\n",
    "    print(f\"{header}: {text}\\n\")"
   ]
  }
 ],
 "metadata": {
  "kernelspec": {
   "display_name": "survival",
   "language": "python",
   "name": "python3"
  },
  "language_info": {
   "codemirror_mode": {
    "name": "ipython",
    "version": 3
   },
   "file_extension": ".py",
   "mimetype": "text/x-python",
   "name": "python",
   "nbconvert_exporter": "python",
   "pygments_lexer": "ipython3",
   "version": "3.10.13"
  }
 },
 "nbformat": 4,
 "nbformat_minor": 2
}
